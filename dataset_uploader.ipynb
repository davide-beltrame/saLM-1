{
 "cells": [
  {
   "cell_type": "code",
   "execution_count": null,
   "id": "ef618da4",
   "metadata": {},
   "outputs": [
    {
     "name": "stderr",
     "output_type": "stream",
     "text": [
      "Creating parquet from Arrow format: 100%|██████████| 9/9 [00:00<00:00, 169.55ba/s]\n",
      "Uploading the dataset shards: 100%|██████████| 1/1 [00:02<00:00,  2.11s/it]\n",
      "Creating parquet from Arrow format: 100%|██████████| 1/1 [00:00<00:00, 215.56ba/s]\n",
      "Uploading the dataset shards: 100%|██████████| 1/1 [00:01<00:00,  1.48s/it]\n",
      "Creating parquet from Arrow format: 100%|██████████| 4/4 [00:00<00:00, 318.00ba/s]\n",
      "Uploading the dataset shards: 100%|██████████| 1/1 [00:01<00:00,  1.63s/it]\n"
     ]
    },
    {
     "data": {
      "text/plain": [
       "CommitInfo(commit_url='https://huggingface.co/datasets/cola13/boolq_formatted/commit/f78d2785af37c38f4ec96d4424b429b0b7369af2', commit_message='Upload dataset', commit_description='', oid='f78d2785af37c38f4ec96d4424b429b0b7369af2', pr_url=None, repo_url=RepoUrl('https://huggingface.co/datasets/cola13/boolq_formatted', endpoint='https://huggingface.co', repo_type='dataset', repo_id='cola13/boolq_formatted'), pr_revision=None, pr_num=None)"
      ]
     },
     "execution_count": 12,
     "metadata": {},
     "output_type": "execute_result"
    }
   ],
   "source": [
    "import datasets\n",
    "\n",
    "\n",
    "# BOOLQ dataset\n",
    "ds = datasets.load_dataset(\"google/boolq\", split={\"train\": \"train\", \"validation\": \"validation\"})\n",
    "\n",
    "og_train = ds[\"train\"]\n",
    "train_val_split = og_train.train_test_split(test_size=0.1, seed=42)\n",
    "train = train_val_split[\"train\"]\n",
    "val = train_val_split[\"test\"]\n",
    "\n",
    "test = ds[\"validation\"]\n",
    "\n",
    "# Format the dataset\n",
    "def format_dataset(examples):\n",
    "    return {\n",
    "        \"question\": examples[\"question\"],\n",
    "        \"answer\": f'Reasoning: {examples[\"passage\"]}\\nTherefore, the answer is: {examples[\"answer\"]}'\n",
    "    }\n",
    "\n",
    "train = train.map(format_dataset, remove_columns=[\"passage\"])\n",
    "val = val.map(format_dataset, remove_columns=[\"passage\"])\n",
    "test = test.map(format_dataset, remove_columns=[\"passage\"])\n",
    "\n",
    "new_ds = datasets.DatasetDict({\n",
    "    \"train\": train,\n",
    "    \"validation\": val,\n",
    "    \"test\": test\n",
    "})\n",
    "\n",
    "\n",
    "new_ds.push_to_hub(\"cola13/boolq_formatted\")"
   ]
  },
  {
   "cell_type": "code",
   "execution_count": null,
   "id": "93c62d3a",
   "metadata": {},
   "outputs": [],
   "source": [
    "med_ds = datasets.load_dataset(\"truehealth/medqa\", split={\"train\": \"train\", \"validation\": \"validation\"})\n",
    "\n",
    "def format_medqa_dataset(examples):\n",
    "\n",
    "    \n",
    "    return {\n",
    "        \"question\": f'Question: {examples[\"question\"]}',\n",
    "        \"answer\": f'Reasoning: {examples[\"context\"]}\\nTherefore, the answer is: {examples[\"answer\"]}'\n",
    "    }"
   ]
  }
 ],
 "metadata": {
  "kernelspec": {
   "display_name": "myvenv",
   "language": "python",
   "name": "python3"
  },
  "language_info": {
   "codemirror_mode": {
    "name": "ipython",
    "version": 3
   },
   "file_extension": ".py",
   "mimetype": "text/x-python",
   "name": "python",
   "nbconvert_exporter": "python",
   "pygments_lexer": "ipython3",
   "version": "3.13.0"
  }
 },
 "nbformat": 4,
 "nbformat_minor": 5
}
